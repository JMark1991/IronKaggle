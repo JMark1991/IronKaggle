{
 "cells": [
  {
   "cell_type": "code",
   "execution_count": null,
   "metadata": {},
   "outputs": [],
   "source": [
    "# Deleting 'Date' column and turning 'State_holiday' into dummies\n",
    "\n",
    "df= pd.read_csv(r\"C:\\Users\\Zoe Mercury\\Desktop\\Iron\\Week 7 Project\\Kaggle Challenge\\train.csv\")\n",
    "\n",
    "def sales_weekday(df):\n",
    "    df.drop(columns=['Date','Unnamed: 0'], axis=1, inplace=True)\n",
    "    dummy= pd.get_dummies(df)\n",
    "    return dummy\n",
    "\n",
    "sales_weekday(sales)"
   ]
  },
  {
   "cell_type": "code",
   "execution_count": null,
   "metadata": {},
   "outputs": [],
   "source": [
    "# Turning the 'Date' column into dummies\n",
    "\n",
    "df= pd.read_csv(r\"C:\\Users\\Zoe Mercury\\Desktop\\Iron\\Week 7 Project\\Kaggle Challenge\\train.csv\")\n",
    "\n",
    "def date_dummies(df):\n",
    "    dummy_sales= pd.get_dummies(df)\n",
    "    dummy_sales.drop(columns='Unnamed: 0', axis=1, inplace=True)\n",
    "    return dummy_sales\n",
    "\n",
    "date_dummies(df)"
   ]
  }
 ],
 "metadata": {
  "kernelspec": {
   "display_name": "Python 3",
   "language": "python",
   "name": "python3"
  },
  "language_info": {
   "codemirror_mode": {
    "name": "ipython",
    "version": 3
   },
   "file_extension": ".py",
   "mimetype": "text/x-python",
   "name": "python",
   "nbconvert_exporter": "python",
   "pygments_lexer": "ipython3",
   "version": "3.7.6"
  }
 },
 "nbformat": 4,
 "nbformat_minor": 4
}
